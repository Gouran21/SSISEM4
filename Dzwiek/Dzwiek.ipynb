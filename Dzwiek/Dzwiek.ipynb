{
 "cells": [
  {
   "cell_type": "code",
   "execution_count": 15,
   "metadata": {},
   "outputs": [
    {
     "data": {
      "text/plain": [
       "0.013828411352103366"
      ]
     },
     "execution_count": 15,
     "metadata": {},
     "output_type": "execute_result"
    }
   ],
   "source": [
    "\n",
    "from pylab import*\n",
    "from scipy.io import wavfile\n",
    "sampFreq, snd = wavfile.read('440_sine.wav')\n",
    "snd.dtype\n",
    "snd = snd / (2.**15)\n",
    "snd.shape\n",
    "5292 / sampFreq\n",
    "s1 = snd[:,0] \n",
    "timeArray = arange(0, 5292, 1)\n",
    "timeArray = timeArray / sampFreq\n",
    "timeArray = timeArray * 1000  \n",
    "plot(timeArray, s1, color='k')\n",
    "ylabel('Amplitude')\n",
    "xlabel('Time (ms)')\n",
    "n = len(s1) \n",
    "p = fft(s1)\n",
    "nUniquePts = int(ceil((n+1)/2.0))\n",
    "p = p[0:nUniquePts]\n",
    "p = abs(p)\n",
    "p = p / float(n)\n",
    "p = p**2  \n",
    "if n % 2 > 0: \n",
    "    p[1:len(p)] = p[1:len(p)] * 2\n",
    "else:\n",
    "    p[1:len(p) -1] = p[1:len(p) - 1] * 2\n",
    "freqArray = arange(0, nUniquePts, 1.0) * (sampFreq / n);\n",
    "plot(freqArray/1000, 10*log10(p), color='k')\n",
    "xlabel('Frequency (kHz)')\n",
    "ylabel('Power (dB)')\n",
    "rms_val = sqrt(mean(s1**2))\n",
    "rms_val\n",
    "sqrt(sum(p))"
   ]
  },
  {
   "cell_type": "code",
   "execution_count": null,
   "metadata": {},
   "outputs": [],
   "source": []
  }
 ],
 "metadata": {
  "kernelspec": {
   "display_name": "Python 3",
   "language": "python",
   "name": "python3"
  },
  "language_info": {
   "codemirror_mode": {
    "name": "ipython",
    "version": 3
   },
   "file_extension": ".py",
   "mimetype": "text/x-python",
   "name": "python",
   "nbconvert_exporter": "python",
   "pygments_lexer": "ipython3",
   "version": "3.6.3"
  }
 },
 "nbformat": 4,
 "nbformat_minor": 2
}
